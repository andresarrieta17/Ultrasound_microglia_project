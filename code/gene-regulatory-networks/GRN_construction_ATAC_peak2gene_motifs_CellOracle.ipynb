{
 "cells": [
  {
   "cell_type": "markdown",
   "id": "b5c8e280-e659-46f4-99a8-f2d1619989b5",
   "metadata": {},
   "source": [
    "# Gene regulatory network construction model"
   ]
  },
  {
   "cell_type": "code",
   "execution_count": 2,
   "id": "8f779bde-6127-442a-afa7-721c355d9331",
   "metadata": {},
   "outputs": [
    {
     "name": "stderr",
     "output_type": "stream",
     "text": [
      "which: no R in (/usr/local/sbin:/usr/local/bin:/usr/sbin:/usr/bin)\n"
     ]
    },
    {
     "data": {
      "text/plain": [
       "'0.20.0'"
      ]
     },
     "execution_count": 2,
     "metadata": {},
     "output_type": "execute_result"
    }
   ],
   "source": [
    "# =============================================================================\n",
    "# 0.  Imports and paths\n",
    "# =============================================================================\n",
    "import os, sys, time, json\n",
    "import numpy  as np\n",
    "import pandas as pd\n",
    "import scanpy as sc\n",
    "\n",
    "import matplotlib.pyplot as plt\n",
    "import matplotlib as mpl\n",
    "import os, gc, warnings\n",
    "\n",
    "import scipy.io as sio\n",
    "from scipy import sparse\n",
    "import anndata as ad\n",
    "\n",
    "import celloracle            as co\n",
    "from   celloracle import motif_analysis as ma\n",
    "\n",
    "co.__version__"
   ]
  },
  {
   "cell_type": "code",
   "execution_count": 21,
   "id": "d6bd5c3c-4e2e-425f-9e23-632013eb011c",
   "metadata": {},
   "outputs": [
    {
     "name": "stdout",
     "output_type": "stream",
     "text": [
      "peak2gene rows: 80974\n"
     ]
    }
   ],
   "source": [
    "# — user parameters — \n",
    "REF_GENOME         = \"hg38\"                           # or \"mm10\", \"hg19\"\n",
    "PEAK2GENE_CSV      = \"peak2gene_archr_allGenes.csv\"            # ArchR peak→gene links\n",
    "MOTIF_POSITIONS_CSV= \"archr_motif_positions.csv\"      # ArchR peak↔motif table\n",
    "BASE_GRN_PARQUET   = \"base_GRN_dataframe.parquet\"     # final output\n",
    "CLUSTER_COL        = \"seurat_clusters\"                       # adjust to your adata.obs column\n",
    "EMBEDDING_KEY      = \"X_umap\"                         # adjust to your adata.obsm key\n",
    "\n",
    "# ---------------------------------------------------------------------------\n",
    "# 1.  Load peak→gene links (ArchR)\n",
    "# ---------------------------------------------------------------------------\n",
    "peak2gene = pd.read_csv(PEAK2GENE_CSV)\n",
    "print(f\"peak2gene rows: {peak2gene.shape[0]}\")\n",
    "\n"
   ]
  },
  {
   "cell_type": "code",
   "execution_count": 15,
   "id": "8223a0ae-4c79-44b7-ad38-c2db6eea5e81",
   "metadata": {},
   "outputs": [
    {
     "name": "stdout",
     "output_type": "stream",
     "text": [
      "⇢ running CellOracle motif scan (can take hours)…\n",
      "No motif data entered. Loading default motifs for your species ...\n",
      " Default motif for vertebrate: gimme.vertebrate.v5.0. \n",
      " For more information, please see https://gimmemotifs.readthedocs.io/en/master/overview.html \n",
      "\n",
      "Initiating scanner... \n",
      "\n"
     ]
    },
    {
     "name": "stderr",
     "output_type": "stream",
     "text": [
      "2025-06-13 18:27:51,087 - DEBUG - using background: genome hg38 with size 200\n"
     ]
    },
    {
     "name": "stdout",
     "output_type": "stream",
     "text": [
      "Calculating FPR-based threshold. This step may take substantial time when you load a new ref-genome. It will be done quicker on the second time. \n",
      "\n"
     ]
    },
    {
     "name": "stderr",
     "output_type": "stream",
     "text": [
      "2025-06-13 18:28:47,839 - DEBUG - determining FPR-based threshold\n"
     ]
    },
    {
     "name": "stdout",
     "output_type": "stream",
     "text": [
      "Motif scan started .. It may take long time.\n",
      "\n"
     ]
    },
    {
     "data": {
      "application/vnd.jupyter.widget-view+json": {
       "model_id": "bea2feafdb14432aba690f98b8008e15",
       "version_major": 2,
       "version_minor": 0
      },
      "text/plain": [
       "Scanning:   0%|          | 0/22214 [00:00<?, ? sequences/s]"
      ]
     },
     "metadata": {},
     "output_type": "display_data"
    },
    {
     "name": "stdout",
     "output_type": "stream",
     "text": [
      "Filtering finished: 7010335 -> 1505571\n",
      "1. Converting scanned results into one-hot encoded dataframe.\n"
     ]
    },
    {
     "data": {
      "application/vnd.jupyter.widget-view+json": {
       "model_id": "00627c39c61947caa63ec6683957b2f4",
       "version_major": 2,
       "version_minor": 0
      },
      "text/plain": [
       "  0%|          | 0/22214 [00:00<?, ?it/s]"
      ]
     },
     "metadata": {},
     "output_type": "display_data"
    },
    {
     "name": "stdout",
     "output_type": "stream",
     "text": [
      "2. Converting results into dictionaries.\n"
     ]
    },
    {
     "data": {
      "application/vnd.jupyter.widget-view+json": {
       "model_id": "b2dfbe70c10c4f38818d1e9d8e0175a5",
       "version_major": 2,
       "version_minor": 0
      },
      "text/plain": [
       "  0%|          | 0/15477 [00:00<?, ?it/s]"
      ]
     },
     "metadata": {},
     "output_type": "display_data"
    },
    {
     "data": {
      "application/vnd.jupyter.widget-view+json": {
       "model_id": "b90f8ce8cc5a44f6ae1c83f799de22f2",
       "version_major": 2,
       "version_minor": 0
      },
      "text/plain": [
       "  0%|          | 0/1095 [00:00<?, ?it/s]"
      ]
     },
     "metadata": {},
     "output_type": "display_data"
    },
    {
     "name": "stdout",
     "output_type": "stream",
     "text": [
      "✔ base_GRN_dataframe.parquet written — shape: (80974, 1098)\n"
     ]
    }
   ],
   "source": [
    "# ---------------------------------------------------------------------------\n",
    "# 2.  Make TFinfo\n",
    "# ---------------------------------------------------------------------------\n",
    "tfi = ma.TFinfo(\n",
    "    peak_data_frame = peak2gene,\n",
    "    ref_genome      = REF_GENOME\n",
    ")\n",
    "\n",
    "# ╔═════════════════════════════════════════════════════════════════════════╗\n",
    "# ║  OPTION A – run CellOracle’s own motif scan (simplest, but slow)        ║\n",
    "# ╚═════════════════════════════════════════════════════════════════════════╝\n",
    "RUN_INTERNAL_SCAN = True        # set to False if you prefer option B\n",
    "\n",
    "if RUN_INTERNAL_SCAN:\n",
    "    print(\"⇢ running CellOracle motif scan (can take hours)…\")\n",
    "    tfi.scan(fpr=0.02, motifs=None, verbose=True)   # default gimme.vertebrate v5\n",
    "else:\n",
    "    # ╔═════════════════════════════════════════════════════════════════════╗\n",
    "    # ║  OPTION B – insert ArchR motif positions                            ║\n",
    "    # ╚═════════════════════════════════════════════════════════════════════╝\n",
    "    # MOTIF_POSITIONS_CSV must have: peak_id, motif_id, score\n",
    "    archr = pd.read_csv(MOTIF_POSITIONS_CSV)\n",
    "    # Build a minimal “scanned_df” that TFinfo expects.\n",
    "    #  Required columns: seqname, motif_id, factors_direct, factors_indirect,\n",
    "    #                    score, pos, strand\n",
    "    archr_scanned = pd.DataFrame({\n",
    "        \"seqname\"          : archr.peak_id,\n",
    "        \"motif_id\"         : archr.motif_id,\n",
    "        # leave factors_direct / indirect empty – CellOracle doesn’t need them\n",
    "        \"factors_direct\"   : \"\",\n",
    "        \"factors_indirect\" : \"\",\n",
    "        \"score\"            : archr.score,\n",
    "        \"pos\"              : -1,     # unknown motif position inside peak\n",
    "        \"strand\"           : 0       # placeholder\n",
    "    })\n",
    "    tfi.scanned_df = archr_scanned\n",
    "    print(f\"Injected {len(archr_scanned):,} ArchR motif hits into TFinfo\")\n",
    "\n",
    "# ---------------------------------------------------------------------------\n",
    "# 3.  Filter motif hits & produce base-GRN\n",
    "# ---------------------------------------------------------------------------\n",
    "tfi.filter_motifs_by_score(threshold=10)\n",
    "tfi.make_TFinfo_dataframe_and_dictionary(verbose=True)\n",
    "\n",
    "base_grn = tfi.to_dataframe()\n",
    "base_grn.to_parquet(BASE_GRN_PARQUET)\n",
    "print(\"✔ base_GRN_dataframe.parquet written — shape:\", base_grn.shape)\n"
   ]
  },
  {
   "cell_type": "code",
   "execution_count": 3,
   "id": "5576f1b1-47e0-45b5-a3ae-4c51b659d56e",
   "metadata": {},
   "outputs": [
    {
     "name": "stdout",
     "output_type": "stream",
     "text": [
      "base GRN shape: (80974, 1098)\n"
     ]
    }
   ],
   "source": [
    "# 1) Load your base GRN\n",
    "base_grn = pd.read_parquet(\"base_GRN_dataframe.parquet\")\n",
    "print(\"base GRN shape:\", base_grn.shape)\n",
    "# e.g. (80974, 1098)"
   ]
  },
  {
   "cell_type": "code",
   "execution_count": null,
   "id": "c98bbcad-ad94-4cb8-a7b4-3ef7289f7f41",
   "metadata": {},
   "outputs": [],
   "source": []
  }
 ],
 "metadata": {
  "kernelspec": {
   "display_name": "Python (celloracle_env)",
   "language": "python",
   "name": "celloracle_env"
  },
  "language_info": {
   "codemirror_mode": {
    "name": "ipython",
    "version": 3
   },
   "file_extension": ".py",
   "mimetype": "text/x-python",
   "name": "python",
   "nbconvert_exporter": "python",
   "pygments_lexer": "ipython3",
   "version": "3.10.16"
  }
 },
 "nbformat": 4,
 "nbformat_minor": 5
}
